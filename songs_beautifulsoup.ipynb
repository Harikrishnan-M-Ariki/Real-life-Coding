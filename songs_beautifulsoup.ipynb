{
 "cells": [
  {
   "cell_type": "code",
   "execution_count": 1,
   "id": "b0737dc1",
   "metadata": {},
   "outputs": [],
   "source": [
    "import requests\n",
    "from bs4 import BeautifulSoup\n",
    "import urllib,re\n",
    "#from Ipython.display import clearoutput"
   ]
  },
  {
   "cell_type": "code",
   "execution_count": 2,
   "id": "f12f88a9",
   "metadata": {},
   "outputs": [],
   "source": [
    "urls=['https://masstamilan.fm/music/a.r.rahman/']\n",
    "search_page='https://masstamilan.fm/music/a.r.rahman?page='"
   ]
  },
  {
   "cell_type": "code",
   "execution_count": 3,
   "id": "9dc08790",
   "metadata": {},
   "outputs": [],
   "source": [
    "for i in range(2,12):\n",
    "    urls.append(search_page+str(i))"
   ]
  },
  {
   "cell_type": "code",
   "execution_count": 4,
   "id": "5c6ee808",
   "metadata": {},
   "outputs": [],
   "source": [
    "albums=[]\n",
    "for url in urls:\n",
    "    req=requests.get(url)\n",
    "    soup=BeautifulSoup(req.text,'html.parser')\n",
    "    for tag in soup.find_all('div',class_='a-i'):\n",
    "        for atag in tag.find_all('a'):\n",
    "            albums.append('https://masstamilan.fm'+atag['href'])"
   ]
  },
  {
   "cell_type": "code",
   "execution_count": 5,
   "id": "f663d89c",
   "metadata": {},
   "outputs": [],
   "source": [
    "songs_link=[]\n",
    "for album in albums:\n",
    "    req=requests.get(album)\n",
    "    soup=BeautifulSoup(req.text,'html.parser')\n",
    "    for atag in soup.find_all('a',class_='dlink anim umami--click--dl320'):\n",
    "        songs_link.append(atag['href'])"
   ]
  },
  {
   "cell_type": "code",
   "execution_count": 6,
   "id": "e16704d6",
   "metadata": {},
   "outputs": [
    {
     "data": {
      "text/plain": [
       "697"
      ]
     },
     "execution_count": 6,
     "metadata": {},
     "output_type": "execute_result"
    }
   ],
   "source": [
    "len(songs_link)"
   ]
  },
  {
   "cell_type": "code",
   "execution_count": null,
   "id": "30cbf29f",
   "metadata": {},
   "outputs": [
    {
     "name": "stdout",
     "output_type": "stream",
     "text": [
      "Downloading.....\n",
      "Endhira Logathu Sundhariye MassTamilan.com.mp3  done\n",
      "Downloading.....\n",
      "Pullinangal MassTamilan.com.mp3  done\n",
      "Downloading.....\n",
      "Raajali Nee Gaali MassTamilan.com.mp3  done\n",
      "Downloading.....\n",
      "Aararo.mp3  done\n",
      "Downloading.....\n",
      "Kaalam Yen Kadhali.mp3  done\n",
      "Downloading.....\n",
      "Mei Nigara.mp3  done\n",
      "Downloading.....\n"
     ]
    }
   ],
   "source": [
    "i=0\n",
    "for song in songs_link:\n",
    "    try:\n",
    "        print('Downloading.....')\n",
    "        mp3_file_req=requests.get('https://masstamilan.fm/'+song)\n",
    "        filename=re.findall('filename=(.+)', mp3_file_req.headers.get('content-disposition'))\n",
    "        filename=filename[0].replace('-MassTamilan.org','')\n",
    "        filename=filename.replace('-',' ')\n",
    "        filename=filename.replace('\"','')\n",
    "        open('E:\\Songs\\Arrahman\\\\'+filename,'wb').write(mp3_file_req.content)\n",
    "        i=i+1\n",
    "        print(filename, ' done')\n",
    "    except:\n",
    "        print('Error...'+song)"
   ]
  },
  {
   "cell_type": "code",
   "execution_count": null,
   "id": "72ebd8f0",
   "metadata": {},
   "outputs": [],
   "source": []
  }
 ],
 "metadata": {
  "kernelspec": {
   "display_name": "Python 3 (ipykernel)",
   "language": "python",
   "name": "python3"
  },
  "language_info": {
   "codemirror_mode": {
    "name": "ipython",
    "version": 3
   },
   "file_extension": ".py",
   "mimetype": "text/x-python",
   "name": "python",
   "nbconvert_exporter": "python",
   "pygments_lexer": "ipython3",
   "version": "3.9.7"
  }
 },
 "nbformat": 4,
 "nbformat_minor": 5
}
